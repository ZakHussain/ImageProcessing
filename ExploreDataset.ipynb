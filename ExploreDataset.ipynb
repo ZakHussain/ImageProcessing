{
 "cells": [
  {
   "cell_type": "markdown",
   "id": "4e20de88",
   "metadata": {},
   "source": [
    "# TOREAD\n",
    "https://www.v7labs.com/blog/medical-image-annotation-guide\n",
    "https://www.v7labs.com/blog/image-segmentation-guide\n",
    "https://github.com/cgohlke/lfdfiles/blob/master/lfdfiles/lfdfiles.py#L177\n",
    "\n",
    "https://www.youtube.com/watch?v=QEz4bG9P3Qs&ab_channel=DigitalSreeni\n",
    "https://www.youtube.com/watch?v=PRceoMWcv1U&ab_channel=DigitalSreeni\n",
    "\n",
    "Resource for lfdfiles  \n",
    "https://github.com/cgohlke/lfdfiles/blob/master/lfdfiles/lfdfiles.py#L177  \n",
    "\n",
    "Dataset:\n",
    "https://alleninstitute.org/bigneuron/data/"
   ]
  },
  {
   "cell_type": "code",
   "execution_count": null,
   "id": "fa008a24",
   "metadata": {},
   "outputs": [],
   "source": []
  },
  {
   "cell_type": "code",
   "execution_count": 1,
   "id": "93eb5a75",
   "metadata": {},
   "outputs": [],
   "source": [
    "filepath = './first2000/first2000/Extracted/00001.FruMARCM-M002262_seg001.lsm.tif.c3.v3draw.uint8.v3draw/00001.FruMARCM-M002262_seg001.lsm.tif.c3.v3draw.uint8.v3draw'"
   ]
  },
  {
   "cell_type": "code",
   "execution_count": null,
   "id": "11fbb15b",
   "metadata": {},
   "outputs": [],
   "source": []
  },
  {
   "cell_type": "markdown",
   "id": "12e8f129",
   "metadata": {},
   "source": [
    "Using Lfdfiles.  \n",
    "This is a python library and console script used to read proprietary files formats used to store experimental data and metadata  \n",
    "\n",
    "read, write, convert, and view many of the proprietary file formats used to store experimental data and metadata at the Laboratory for Fluorescence Dynamics: SimFCS VPL, VPP, JRN, BIN, INT, CYL REF, BH, BHZ FBF, FBD, B64, I64, Z64, and R64; GLOBALS LIF and ASCII; CCP4 MAP; Vaa3D RAW; Bio-Rad(r) PIC; Vista IFLI and IFI; FlimFast FLIF."
   ]
  },
  {
   "cell_type": "markdown",
   "id": "e4f69613",
   "metadata": {},
   "source": [
    "[LFD Computing](https://www.lfd.uci.edu/~gohlke/) resources for capturing images with some very interesting application such as measuring the molecular mass of objects [LFD SITE](https://www.lfd.uci.edu/)"
   ]
  },
  {
   "cell_type": "code",
   "execution_count": 2,
   "id": "49da2752",
   "metadata": {},
   "outputs": [
    {
     "ename": "ModuleNotFoundError",
     "evalue": "No module named 'lfdfiles'",
     "output_type": "error",
     "traceback": [
      "\u001b[1;31m---------------------------------------------------------------------------\u001b[0m",
      "\u001b[1;31mModuleNotFoundError\u001b[0m                       Traceback (most recent call last)",
      "\u001b[1;32m~\\AppData\\Local\\Temp/ipykernel_7216/3011467653.py\u001b[0m in \u001b[0;36m<module>\u001b[1;34m\u001b[0m\n\u001b[1;32m----> 1\u001b[1;33m \u001b[1;32mimport\u001b[0m \u001b[0mlfdfiles\u001b[0m\u001b[1;33m\u001b[0m\u001b[1;33m\u001b[0m\u001b[0m\n\u001b[0m",
      "\u001b[1;31mModuleNotFoundError\u001b[0m: No module named 'lfdfiles'"
     ]
    }
   ],
   "source": [
    "import lfdfiles"
   ]
  },
  {
   "cell_type": "code",
   "execution_count": null,
   "id": "7aedf607",
   "metadata": {},
   "outputs": [],
   "source": [
    "# lfdfiles.Vaa3dRaw()"
   ]
  },
  {
   "cell_type": "code",
   "execution_count": 3,
   "id": "f41a796a",
   "metadata": {},
   "outputs": [
    {
     "ename": "NameError",
     "evalue": "name 'LfdFile' is not defined",
     "output_type": "error",
     "traceback": [
      "\u001b[1;31m---------------------------------------------------------------------------\u001b[0m",
      "\u001b[1;31mNameError\u001b[0m                                 Traceback (most recent call last)",
      "\u001b[1;32m~\\AppData\\Local\\Temp/ipykernel_7216/881156796.py\u001b[0m in \u001b[0;36m<module>\u001b[1;34m\u001b[0m\n\u001b[1;32m----> 1\u001b[1;33m \u001b[0mf1\u001b[0m \u001b[1;33m=\u001b[0m \u001b[0mLfdFile\u001b[0m\u001b[1;33m(\u001b[0m\u001b[1;33m)\u001b[0m\u001b[1;33m\u001b[0m\u001b[1;33m\u001b[0m\u001b[0m\n\u001b[0m",
      "\u001b[1;31mNameError\u001b[0m: name 'LfdFile' is not defined"
     ]
    }
   ],
   "source": [
    "f1 = LfdFile()"
   ]
  },
  {
   "cell_type": "code",
   "execution_count": 4,
   "id": "8e49e007",
   "metadata": {},
   "outputs": [
    {
     "ename": "ModuleNotFoundError",
     "evalue": "No module named 'lfdfiles'",
     "output_type": "error",
     "traceback": [
      "\u001b[1;31m---------------------------------------------------------------------------\u001b[0m",
      "\u001b[1;31mModuleNotFoundError\u001b[0m                       Traceback (most recent call last)",
      "\u001b[1;32m~\\AppData\\Local\\Temp/ipykernel_7216/1066917007.py\u001b[0m in \u001b[0;36m<module>\u001b[1;34m\u001b[0m\n\u001b[1;32m----> 1\u001b[1;33m \u001b[1;32mfrom\u001b[0m \u001b[0mlfdfiles\u001b[0m \u001b[1;32mimport\u001b[0m \u001b[0mVaa3dRaw\u001b[0m\u001b[1;33m\u001b[0m\u001b[1;33m\u001b[0m\u001b[0m\n\u001b[0m",
      "\u001b[1;31mModuleNotFoundError\u001b[0m: No module named 'lfdfiles'"
     ]
    }
   ],
   "source": [
    "from lfdfiles import Vaa3dRaw"
   ]
  },
  {
   "cell_type": "code",
   "execution_count": 5,
   "id": "26a078c8",
   "metadata": {},
   "outputs": [],
   "source": [
    "newname = './data/00001.FruMARCM-M002262_seg001.lsm.tif.c3.v3draw.uint8.tif'\n",
    "data = []"
   ]
  },
  {
   "cell_type": "code",
   "execution_count": 6,
   "id": "c4eb1f73",
   "metadata": {},
   "outputs": [
    {
     "ename": "NameError",
     "evalue": "name 'Vaa3dRaw' is not defined",
     "output_type": "error",
     "traceback": [
      "\u001b[1;31m---------------------------------------------------------------------------\u001b[0m",
      "\u001b[1;31mNameError\u001b[0m                                 Traceback (most recent call last)",
      "\u001b[1;32m~\\AppData\\Local\\Temp/ipykernel_7216/134221905.py\u001b[0m in \u001b[0;36m<module>\u001b[1;34m\u001b[0m\n\u001b[1;32m----> 1\u001b[1;33m \u001b[1;32mwith\u001b[0m \u001b[0mVaa3dRaw\u001b[0m\u001b[1;33m(\u001b[0m\u001b[0mfilepath\u001b[0m\u001b[1;33m)\u001b[0m \u001b[1;32mas\u001b[0m \u001b[0mf\u001b[0m\u001b[1;33m:\u001b[0m\u001b[1;33m\u001b[0m\u001b[1;33m\u001b[0m\u001b[0m\n\u001b[0m\u001b[0;32m      2\u001b[0m     \u001b[0mf\u001b[0m\u001b[1;33m.\u001b[0m\u001b[0mshape\u001b[0m\u001b[1;33m\u001b[0m\u001b[1;33m\u001b[0m\u001b[0m\n\u001b[0;32m      3\u001b[0m     \u001b[0mdata\u001b[0m \u001b[1;33m=\u001b[0m \u001b[0mf\u001b[0m\u001b[1;33m.\u001b[0m\u001b[0masarray\u001b[0m\u001b[1;33m(\u001b[0m\u001b[1;33m)\u001b[0m\u001b[1;33m\u001b[0m\u001b[1;33m\u001b[0m\u001b[0m\n\u001b[0;32m      4\u001b[0m     \u001b[0mf\u001b[0m\u001b[1;33m.\u001b[0m\u001b[0mtotiff\u001b[0m\u001b[1;33m(\u001b[0m\u001b[0mnewname\u001b[0m\u001b[1;33m,\u001b[0m \u001b[0mcompression\u001b[0m\u001b[1;33m=\u001b[0m\u001b[1;34m'zlib'\u001b[0m\u001b[1;33m)\u001b[0m\u001b[1;33m\u001b[0m\u001b[1;33m\u001b[0m\u001b[0m\n",
      "\u001b[1;31mNameError\u001b[0m: name 'Vaa3dRaw' is not defined"
     ]
    }
   ],
   "source": [
    "with Vaa3dRaw(filepath) as f:\n",
    "    f.shape\n",
    "    data = f.asarray()\n",
    "    f.totiff(newname, compression='zlib')"
   ]
  },
  {
   "cell_type": "code",
   "execution_count": 7,
   "id": "98844509",
   "metadata": {},
   "outputs": [
    {
     "ename": "AttributeError",
     "evalue": "'list' object has no attribute 'shape'",
     "output_type": "error",
     "traceback": [
      "\u001b[1;31m---------------------------------------------------------------------------\u001b[0m",
      "\u001b[1;31mAttributeError\u001b[0m                            Traceback (most recent call last)",
      "\u001b[1;32m~\\AppData\\Local\\Temp/ipykernel_7216/3993293784.py\u001b[0m in \u001b[0;36m<module>\u001b[1;34m\u001b[0m\n\u001b[1;32m----> 1\u001b[1;33m \u001b[0mdata\u001b[0m\u001b[1;33m.\u001b[0m\u001b[0mshape\u001b[0m\u001b[1;33m\u001b[0m\u001b[1;33m\u001b[0m\u001b[0m\n\u001b[0m",
      "\u001b[1;31mAttributeError\u001b[0m: 'list' object has no attribute 'shape'"
     ]
    }
   ],
   "source": [
    "data.shape"
   ]
  },
  {
   "cell_type": "markdown",
   "id": "1433db99",
   "metadata": {},
   "source": [
    "This image has 4 dimensions, (?, time, y, x) -> i assume the one is grayscale"
   ]
  },
  {
   "cell_type": "markdown",
   "id": "143ec8b6",
   "metadata": {},
   "source": [
    "\n",
    "Convert the PIC file to a compressed TIFF file:\n",
    ">>> with BioradPic('_biorad.pic') as f:\n",
    "...     f.totiff('_biorad.tif', compression='zlib')"
   ]
  },
  {
   "cell_type": "code",
   "execution_count": null,
   "id": "5c5946f7",
   "metadata": {},
   "outputs": [],
   "source": []
  },
  {
   "cell_type": "code",
   "execution_count": 8,
   "id": "4893c023",
   "metadata": {},
   "outputs": [],
   "source": [
    "from skimage import io"
   ]
  },
  {
   "cell_type": "code",
   "execution_count": 9,
   "id": "b68ca68c",
   "metadata": {},
   "outputs": [],
   "source": [
    "fly_neuron = io.imread('./data/00001.FruMARCM-M002262_seg001.lsm.tif.c3.v3draw.uint8.tif')"
   ]
  },
  {
   "cell_type": "code",
   "execution_count": 10,
   "id": "24e59aba",
   "metadata": {},
   "outputs": [
    {
     "data": {
      "text/plain": [
       "(1, 119, 1024, 1024)"
      ]
     },
     "execution_count": 10,
     "metadata": {},
     "output_type": "execute_result"
    }
   ],
   "source": [
    "fly_neuron.shape"
   ]
  },
  {
   "cell_type": "code",
   "execution_count": 11,
   "id": "c3f52850",
   "metadata": {},
   "outputs": [
    {
     "name": "stderr",
     "output_type": "stream",
     "text": [
      "C:\\Users\\shuss\\anaconda3\\lib\\site-packages\\skimage\\io\\_plugins\\matplotlib_plugin.py:150: UserWarning: Low image data range; displaying image with stretched contrast.\n",
      "  lo, hi, cmap = _get_display_range(image)\n"
     ]
    },
    {
     "data": {
      "text/plain": [
       "<matplotlib.image.AxesImage at 0x22830fdf820>"
      ]
     },
     "execution_count": 11,
     "metadata": {},
     "output_type": "execute_result"
    },
    {
     "data": {
      "image/png": "[encoded data removed]",
      "text/plain": [
       "<Figure size 432x288 with 2 Axes>"
      ]
     },
     "metadata": {
      "needs_background": "light"
     },
     "output_type": "display_data"
    }
   ],
   "source": [
    "io.imshow(fly_neuron[0][11])"
   ]
  },
  {
   "cell_type": "code",
   "execution_count": 12,
   "id": "bd6a77a3",
   "metadata": {},
   "outputs": [],
   "source": [
    "import matplotlib.pyplot as plt"
   ]
  },
  {
   "cell_type": "code",
   "execution_count": 13,
   "id": "fd16d5a2",
   "metadata": {},
   "outputs": [],
   "source": [
    "import numpy as np"
   ]
  },
  {
   "cell_type": "code",
   "execution_count": 14,
   "id": "28654e92",
   "metadata": {},
   "outputs": [
    {
     "data": {
      "image/png": "[encoded data removed]",
      "text/plain": [
       "<Figure size 432x288 with 1 Axes>"
      ]
     },
     "metadata": {
      "needs_background": "light"
     },
     "output_type": "display_data"
    }
   ],
   "source": [
    "max_time = np.max(fly_neuron[0], axis=0)\n",
    "plt.imshow(max_time)\n",
    "plt.title('Max time - projection')\n",
    "plt.show()"
   ]
  },
  {
   "cell_type": "code",
   "execution_count": 15,
   "id": "bb4e443b",
   "metadata": {},
   "outputs": [
    {
     "data": {
      "image/png": "[encoded data removed]",
      "text/plain": [
       "<Figure size 432x288 with 1 Axes>"
      ]
     },
     "metadata": {
      "needs_background": "light"
     },
     "output_type": "display_data"
    }
   ],
   "source": [
    "max_y = np.max(fly_neuron[0], axis=1)\n",
    "plt.imshow(max_y)\n",
    "plt.title('Max y - projection')\n",
    "plt.show()"
   ]
  },
  {
   "cell_type": "code",
   "execution_count": 16,
   "id": "eff15410",
   "metadata": {},
   "outputs": [
    {
     "data": {
      "image/png": "[encoded data removed]",
      "text/plain": [
       "<Figure size 432x288 with 1 Axes>"
      ]
     },
     "metadata": {
      "needs_background": "light"
     },
     "output_type": "display_data"
    }
   ],
   "source": [
    "max_x = np.max(fly_neuron[0], axis=2)\n",
    "plt.imshow(max_x)\n",
    "plt.title('Max x - projection')\n",
    "plt.show()"
   ]
  },
  {
   "cell_type": "code",
   "execution_count": 17,
   "id": "dc1ae1fc",
   "metadata": {},
   "outputs": [],
   "source": [
    "voxel_x = 0.52\n",
    "voxel_y = 0.52\n",
    "voxel_t = 2\n",
    "\n",
    "aspect_xt = voxel_t / voxel_x\n",
    "aspect_yt = voxel_t / voxel_y"
   ]
  },
  {
   "cell_type": "code",
   "execution_count": 18,
   "id": "0f666e99",
   "metadata": {},
   "outputs": [],
   "source": [
    "def showXYTimeprojection(image):\n",
    "    max_z = np.max(image, axis=0)\n",
    "    plt.imshow(max_time)\n",
    "    plt.title('max projection along time axis')\n",
    "    plt.show()\n",
    "\n",
    "    max_y = np.max(image, axis=1)\n",
    "    plt.imshow(max_y, aspect=aspect_xt)\n",
    "    plt.title('max projection along y')\n",
    "    plt.show()\n",
    "\n",
    "    max_x = np.max(image, axis=2)\n",
    "    plt.imshow(max_x, aspect=aspect_yt)\n",
    "    plt.title('max projection along x')\n",
    "    plt.show()"
   ]
  },
  {
   "cell_type": "code",
   "execution_count": 19,
   "id": "7314dde5",
   "metadata": {},
   "outputs": [
    {
     "data": {
      "image/png": "[encoded data removed]",
      "text/plain": [
       "<Figure size 432x288 with 1 Axes>"
      ]
     },
     "metadata": {
      "needs_background": "light"
     },
     "output_type": "display_data"
    },
    {
     "data": {
      "image/png": "[encoded data removed]",
      "text/plain": [
       "<Figure size 432x288 with 1 Axes>"
      ]
     },
     "metadata": {
      "needs_background": "light"
     },
     "output_type": "display_data"
    },
    {
     "data": {
      "image/png": "[encoded data removed]",
      "text/plain": [
       "<Figure size 432x288 with 1 Axes>"
      ]
     },
     "metadata": {
      "needs_background": "light"
     },
     "output_type": "display_data"
    }
   ],
   "source": [
    "showXYTimeprojection(fly_neuron[0])"
   ]
  },
  {
   "cell_type": "code",
   "execution_count": 20,
   "id": "3f0d61bb",
   "metadata": {},
   "outputs": [],
   "source": [
    "import itk"
   ]
  },
  {
   "cell_type": "code",
   "execution_count": 21,
   "id": "6d2fe8d4",
   "metadata": {},
   "outputs": [],
   "source": [
    "from itkwidgets import view"
   ]
  },
  {
   "cell_type": "code",
   "execution_count": 23,
   "id": "73cd30b9",
   "metadata": {},
   "outputs": [
    {
     "data": {
      "application/vnd.jupyter.widget-view+json": {
       "model_id": "3326e82f7fa94572a0cb662f14022f15",
       "version_major": 2,
       "version_minor": 0
      },
      "text/plain": [
       "Viewer(geometries=[], gradient_opacity=0.22, point_sets=[], rendered_image=<itk.itkImagePython.itkImageUC3; pr…"
      ]
     },
     "metadata": {},
     "output_type": "display_data"
    }
   ],
   "source": [
    "# convert our image into a proper itk_image\n",
    "itk_image = itk.image_view_from_array(fly_neuron[0])\n",
    "itk_image.SetSpacing([voxel_x, voxel_y, voxel_t])\n",
    "\n",
    "view(itk_image) "
   ]
  },
  {
   "cell_type": "markdown",
   "id": "9bd5455e",
   "metadata": {},
   "source": [
    "# convert the Tiff Stack to an stl file"
   ]
  },
  {
   "cell_type": "markdown",
   "id": "058bf573",
   "metadata": {},
   "source": [
    "http://talesofa3dprinter.blogspot.com/2014/02/converting-tiff-data-to-stl-file.html\n",
    "\n",
    "\n",
    "1. open the TIF Stack in Fiji\n",
    "2. create a binary from the tiff stack by going to PROCESS >> BINARY >> MAKE BINARY\n",
    "3. If your model has holes in it that you want to fill, you can.\n",
    "    a. go to PROCESS >> BINARY >> FILL HOLES \n",
    "    b. repeat step 3 if there are still more holes \n",
    "4. You can make the file smaller if needed. keep in mind this will decrease the accuracy of the model in comparison to the object it was made from. but this will make it more likely that your print will succeed. \n",
    "5. if their are stray pixels, go to \n",
    "    a. PROCESS >> BINARY >> ERODE \n",
    "    b. repeat until stray pixels are removed\n",
    "    \n",
    "I was able to generate an stl and open it in CURA. However this file cannot be printed, as it is non continuous and sperated \n",
    "in many places. Also, it is a large file and takes about 4-5 minutes to load"
   ]
  },
  {
   "cell_type": "code",
   "execution_count": null,
   "id": "2142631a",
   "metadata": {},
   "outputs": [],
   "source": []
  },
  {
   "cell_type": "code",
   "execution_count": null,
   "id": "9679d624",
   "metadata": {},
   "outputs": [],
   "source": []
  },
  {
   "cell_type": "markdown",
   "id": "9c0bc783",
   "metadata": {},
   "source": [
    "FOUND RESOURCES ABOUT THE DATASET    \n",
    "look at section titled, the first 2000 fruitfly image stacks used for algorithm porting/development  \n",
    "https://github.com/BigNeuron/Data/releases/tag/data_v1.0_first2000\n",
    "\n",
    "\n",
    "Preprocessing steps to prepare image data for neuron tracing  \n",
    "https://github.com/BigNeuron/BigNeuron-Wiki/wiki/Image-Preprocessing"
   ]
  },
  {
   "cell_type": "markdown",
   "id": "0216d909",
   "metadata": {},
   "source": [
    "# Using this generate gabor filters for the 3d model"
   ]
  },
  {
   "cell_type": "markdown",
   "id": "a2c30a55",
   "metadata": {},
   "source": [
    "What are Gabor Features and how do we use them"
   ]
  }
 ],
 "metadata": {
  "kernelspec": {
   "display_name": "Python 3 (ipykernel)",
   "language": "python",
   "name": "python3"
  },
  "language_info": {
   "codemirror_mode": {
    "name": "ipython",
    "version": 3
   },
   "file_extension": ".py",
   "mimetype": "text/x-python",
   "name": "python",
   "nbconvert_exporter": "python",
   "pygments_lexer": "ipython3",
   "version": "3.9.7"
  }
 },
 "nbformat": 4,
 "nbformat_minor": 5
}
